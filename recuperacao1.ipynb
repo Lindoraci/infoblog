{
  "nbformat": 4,
  "nbformat_minor": 0,
  "metadata": {
    "colab": {
      "name": "recuperacao1.ipynb",
      "provenance": [],
      "authorship_tag": "ABX9TyM2VKsh/+y/lXhCruWLFNvg",
      "include_colab_link": true
    },
    "kernelspec": {
      "name": "python3",
      "display_name": "Python 3"
    }
  },
  "cells": [
    {
      "cell_type": "markdown",
      "metadata": {
        "id": "view-in-github",
        "colab_type": "text"
      },
      "source": [
        "<a href=\"https://colab.research.google.com/github/Lindoraci/infoblog/blob/main/recuperacao1.ipynb\" target=\"_parent\"><img src=\"https://colab.research.google.com/assets/colab-badge.svg\" alt=\"Open In Colab\"/></a>"
      ]
    },
    {
      "cell_type": "markdown",
      "metadata": {
        "id": "SZgEsSQloRIp"
      },
      "source": [
        "QUESTÃO 01"
      ]
    },
    {
      "cell_type": "code",
      "metadata": {
        "id": "mA0Q43OWoT_e"
      },
      "source": [
        "nome = input(\"Digite o nome do colaborador: \")\r\n",
        "clientesNovos = int(input(\"Quantos clientes novos ele indicou? \"))\r\n",
        "\r\n",
        "print(\"\\nO colaborador {} indicou {} novos clientes e deve receber {:.2f}\".format(nome,clientesNovos, 500+50*clientesNovos))\r\n",
        "\r\n",
        "input(\"\\nAperte ENTER para sair\")"
      ],
      "execution_count": null,
      "outputs": []
    },
    {
      "cell_type": "markdown",
      "metadata": {
        "id": "2Vp5XWTEojS-"
      },
      "source": [
        "QUESTÃO 02"
      ]
    },
    {
      "cell_type": "code",
      "metadata": {
        "id": "RUXhZLp5olEX"
      },
      "source": [
        "valorCarro = float(input(\"Qual é o valor do carro: \"))\r\n",
        "valorIPVA = float(input(\"Qual é o valor IPVA: \"))\r\n",
        "\r\n",
        "\r\n",
        "print(\"\\nO IPVA, no valor de R${:.2f}, corresponde a {:.2f}% do valor do veículo que é de R${:.2f}\".format(valorIPVA, valorIPVA*100/valorCarro, valorCarro))\r\n",
        "\r\n",
        "\r\n",
        "input(\"\\nAperte ENTER para sair\")"
      ],
      "execution_count": null,
      "outputs": []
    },
    {
      "cell_type": "markdown",
      "metadata": {
        "id": "uWCibsEdozae"
      },
      "source": [
        "QUESTÃO 03"
      ]
    },
    {
      "cell_type": "code",
      "metadata": {
        "id": "qW3LCIDmo0wn"
      },
      "source": [
        "cpf = input(\"Digite o CPF do usuário: \")\r\n",
        "cpfFormatado = \"{}.{}.{}-{}\".format(cpf[0:3], cpf[3:6], cpf[6:9], cpf[9:])\r\n",
        "leituraAnterior = float(input(\"Quantos kw/h o usuário consumiu mês passado: \"))\r\n",
        "leituraAtual = float(input(\"Quantos kw/h o usuário consumiu esse mês: \"))\r\n",
        "\r\n",
        "print(\"\\nCPF do usuário: {}\".format(cpfFormatado))\r\n",
        "print(\"Valor da fatura: R${:.2f}\".format(leituraAtual*0.25))\r\n",
        "print(\"Consumo desse mês: {} Kw/h\".format(leituraAtual))\r\n",
        "\r\n",
        "input(\"\\nAperte ENTER para sair\")"
      ],
      "execution_count": null,
      "outputs": []
    },
    {
      "cell_type": "markdown",
      "metadata": {
        "id": "sceRPA6Uo-Vu"
      },
      "source": [
        "QUESTÃO 04"
      ]
    },
    {
      "cell_type": "code",
      "metadata": {
        "id": "ZTGHgqcHo_h1"
      },
      "source": [
        "x = int(input(\"Quanto mede a reta1: \"))\r\n",
        "y = int(input(\"Quanto mede a reta2: \"))\r\n",
        "z = int(input(\"Quanto mede a reta3: \"))\r\n",
        "\r\n",
        "if x < (y+z) and y < (x+z) and z < (x+y):\r\n",
        "    if x == y and y == z:\r\n",
        "        print(\"\\nAs retas {}, {} e {} formam um triângulo equilátero\".format(x, y, z))\r\n",
        "    elif x == y or y == z or z == x:\r\n",
        "        print(\"\\nAs retas {}, {} e {} formam um triângulo isósceles\".format(x, y, z))\r\n",
        "    else:\r\n",
        "        print(\"\\nAs retas {}, {} e {} formam um triângulo escaleno\".format(x, y, z))\r\n",
        "else:\r\n",
        "    print(\"\\nAs retas {}, {} e {} não formam um triângulo\".format(x, y, z))\r\n",
        "\r\n",
        "input(\"\\nAperte ENTER para sair\")"
      ],
      "execution_count": null,
      "outputs": []
    },
    {
      "cell_type": "markdown",
      "metadata": {
        "id": "rIkRDkPOpDGm"
      },
      "source": [
        "QUESTÃO 05"
      ]
    },
    {
      "cell_type": "code",
      "metadata": {
        "colab": {
          "base_uri": "https://localhost:8080/"
        },
        "id": "hPBsip3IpEOx",
        "outputId": "55ad1314-265f-409e-cdd5-64a5e20e8116"
      },
      "source": [
        "notas = list()\r\n",
        "conceito = list()\r\n",
        "situacao = list()\r\n",
        "\r\n",
        "for i in range(4):\r\n",
        "    notas.append(float(input(\"Digite a {}a nota do aluno: \".format(i+1))))\r\n",
        "\r\n",
        "for i in range(4):\r\n",
        "    if notas[i] <= 4.9:\r\n",
        "        conceito.append(\"D\")\r\n",
        "        situacao.append(\"Reprovado\")\r\n",
        "    elif notas[i] <= 6.9:\r\n",
        "        conceito.append(\"C\")\r\n",
        "        situacao.append(\"Recuperação\")\r\n",
        "    elif notas[i] <= 8.9:\r\n",
        "        conceito.append(\"B\")\r\n",
        "        situacao.append(\"Aprovado\")\r\n",
        "    else:\r\n",
        "        conceito.append(\"A\")\r\n",
        "        situacao.append(\"Aprovado\")\r\n",
        "\r\n",
        "print(\"\\n Nota | Conceito | Situação\")\r\n",
        "for i in range(4):\r\n",
        "    print(\"  {:.1f} |     {}    | {}\".format(notas[i], conceito[i], situacao[i]))\r\n",
        "\r\n",
        "input(\"\\nAperte ENTER para sair\")"
      ],
      "execution_count": null,
      "outputs": [
        {
          "output_type": "stream",
          "text": [
            "Digite a 1a nota do aluno: 90\n",
            "Digite a 2a nota do aluno: 80\n",
            "Digite a 3a nota do aluno: 70\n",
            "Digite a 4a nota do aluno: 60\n",
            "\n",
            " Nota | Conceito | Situação\n",
            "  90.0 |     A    | Aprovado\n",
            "  80.0 |     A    | Aprovado\n",
            "  70.0 |     A    | Aprovado\n",
            "  60.0 |     A    | Aprovado\n"
          ],
          "name": "stdout"
        }
      ]
    }
  ]
}